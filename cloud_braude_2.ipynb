{
  "nbformat": 4,
  "nbformat_minor": 0,
  "metadata": {
    "colab": {
      "provenance": [],
      "authorship_tag": "ABX9TyO6IkCYurhupzMLByAr//C8",
      "include_colab_link": true
    },
    "kernelspec": {
      "name": "python3",
      "display_name": "Python 3"
    },
    "language_info": {
      "name": "python"
    },
    "widgets": {
      "application/vnd.jupyter.widget-state+json": {
        "4792a92e9ddb4375aece4e31d556065a": {
          "model_module": "@jupyter-widgets/controls",
          "model_name": "DropdownModel",
          "model_module_version": "1.5.0",
          "state": {
            "_dom_classes": [],
            "_model_module": "@jupyter-widgets/controls",
            "_model_module_version": "1.5.0",
            "_model_name": "DropdownModel",
            "_options_labels": [
              "Alon Ternerider",
              "Nadav Goldin",
              "matan czuckermann",
              "tzahi bakal",
              "daniel armaganian"
            ],
            "_view_count": null,
            "_view_module": "@jupyter-widgets/controls",
            "_view_module_version": "1.5.0",
            "_view_name": "DropdownView",
            "description": "Student:",
            "description_tooltip": null,
            "disabled": false,
            "index": 0,
            "layout": "IPY_MODEL_98045a8ede324506b8c6f96e9e2b4898",
            "style": "IPY_MODEL_a972a526c9404b7da1e0f1a230238c3b"
          }
        },
        "98045a8ede324506b8c6f96e9e2b4898": {
          "model_module": "@jupyter-widgets/base",
          "model_name": "LayoutModel",
          "model_module_version": "1.2.0",
          "state": {
            "_model_module": "@jupyter-widgets/base",
            "_model_module_version": "1.2.0",
            "_model_name": "LayoutModel",
            "_view_count": null,
            "_view_module": "@jupyter-widgets/base",
            "_view_module_version": "1.2.0",
            "_view_name": "LayoutView",
            "align_content": null,
            "align_items": null,
            "align_self": null,
            "border": null,
            "bottom": null,
            "display": null,
            "flex": null,
            "flex_flow": null,
            "grid_area": null,
            "grid_auto_columns": null,
            "grid_auto_flow": null,
            "grid_auto_rows": null,
            "grid_column": null,
            "grid_gap": null,
            "grid_row": null,
            "grid_template_areas": null,
            "grid_template_columns": null,
            "grid_template_rows": null,
            "height": null,
            "justify_content": null,
            "justify_items": null,
            "left": null,
            "margin": null,
            "max_height": null,
            "max_width": null,
            "min_height": null,
            "min_width": null,
            "object_fit": null,
            "object_position": null,
            "order": null,
            "overflow": null,
            "overflow_x": null,
            "overflow_y": null,
            "padding": null,
            "right": null,
            "top": null,
            "visibility": null,
            "width": null
          }
        },
        "a972a526c9404b7da1e0f1a230238c3b": {
          "model_module": "@jupyter-widgets/controls",
          "model_name": "DescriptionStyleModel",
          "model_module_version": "1.5.0",
          "state": {
            "_model_module": "@jupyter-widgets/controls",
            "_model_module_version": "1.5.0",
            "_model_name": "DescriptionStyleModel",
            "_view_count": null,
            "_view_module": "@jupyter-widgets/base",
            "_view_module_version": "1.2.0",
            "_view_name": "StyleView",
            "description_width": ""
          }
        },
        "0c60f9b43bcf4ce08bfbd4781d24356d": {
          "model_module": "@jupyter-widgets/controls",
          "model_name": "HBoxModel",
          "model_module_version": "1.5.0",
          "state": {
            "_dom_classes": [],
            "_model_module": "@jupyter-widgets/controls",
            "_model_module_version": "1.5.0",
            "_model_name": "HBoxModel",
            "_view_count": null,
            "_view_module": "@jupyter-widgets/controls",
            "_view_module_version": "1.5.0",
            "_view_name": "HBoxView",
            "box_style": "",
            "children": [
              "IPY_MODEL_25ffe0ae59914333b990c422febde624",
              "IPY_MODEL_73b7b5ecd9d14d1594fa7e2a1b95ce25",
              "IPY_MODEL_7c8696939823478ab3a39a5ad395db9c"
            ],
            "layout": "IPY_MODEL_183fe3633876408faf663efd98586626"
          }
        },
        "25ffe0ae59914333b990c422febde624": {
          "model_module": "@jupyter-widgets/controls",
          "model_name": "TextareaModel",
          "model_module_version": "1.5.0",
          "state": {
            "_dom_classes": [],
            "_model_module": "@jupyter-widgets/controls",
            "_model_module_version": "1.5.0",
            "_model_name": "TextareaModel",
            "_view_count": null,
            "_view_module": "@jupyter-widgets/controls",
            "_view_module_version": "1.5.0",
            "_view_name": "TextareaView",
            "continuous_update": true,
            "description": "email:",
            "description_tooltip": null,
            "disabled": true,
            "layout": "IPY_MODEL_7924a3cdf9514a4ebde4721abe4a0f6a",
            "placeholder": "​",
            "rows": null,
            "style": "IPY_MODEL_a08748ddbcc848eb80ca5970bc8d4245",
            "value": "alon.ternerider@braude.ac.il"
          }
        },
        "73b7b5ecd9d14d1594fa7e2a1b95ce25": {
          "model_module": "@jupyter-widgets/controls",
          "model_name": "TextareaModel",
          "model_module_version": "1.5.0",
          "state": {
            "_dom_classes": [],
            "_model_module": "@jupyter-widgets/controls",
            "_model_module_version": "1.5.0",
            "_model_name": "TextareaModel",
            "_view_count": null,
            "_view_module": "@jupyter-widgets/controls",
            "_view_module_version": "1.5.0",
            "_view_name": "TextareaView",
            "continuous_update": true,
            "description": "courses:",
            "description_tooltip": null,
            "disabled": true,
            "layout": "IPY_MODEL_acc52c5067044c4ca5c6553bdc2ca4d7",
            "placeholder": "​",
            "rows": null,
            "style": "IPY_MODEL_19cb4033f4ca42349acb56f53e469655",
            "value": "cloud\nWEB\nphyisics\nAI\nML\nCompilation"
          }
        },
        "7c8696939823478ab3a39a5ad395db9c": {
          "model_module": "@jupyter-widgets/controls",
          "model_name": "TextareaModel",
          "model_module_version": "1.5.0",
          "state": {
            "_dom_classes": [],
            "_model_module": "@jupyter-widgets/controls",
            "_model_module_version": "1.5.0",
            "_model_name": "TextareaModel",
            "_view_count": null,
            "_view_module": "@jupyter-widgets/controls",
            "_view_module_version": "1.5.0",
            "_view_name": "TextareaView",
            "continuous_update": true,
            "description": "link:",
            "description_tooltip": null,
            "disabled": false,
            "layout": "IPY_MODEL_fed04bd61fce45899e5673870ce13bf0",
            "placeholder": "​",
            "rows": null,
            "style": "IPY_MODEL_13e9e91b88cd4b7e8c178aa542b57f9b",
            "value": "https://github.com/alon309"
          }
        },
        "183fe3633876408faf663efd98586626": {
          "model_module": "@jupyter-widgets/base",
          "model_name": "LayoutModel",
          "model_module_version": "1.2.0",
          "state": {
            "_model_module": "@jupyter-widgets/base",
            "_model_module_version": "1.2.0",
            "_model_name": "LayoutModel",
            "_view_count": null,
            "_view_module": "@jupyter-widgets/base",
            "_view_module_version": "1.2.0",
            "_view_name": "LayoutView",
            "align_content": null,
            "align_items": null,
            "align_self": null,
            "border": null,
            "bottom": null,
            "display": null,
            "flex": null,
            "flex_flow": null,
            "grid_area": null,
            "grid_auto_columns": null,
            "grid_auto_flow": null,
            "grid_auto_rows": null,
            "grid_column": null,
            "grid_gap": null,
            "grid_row": null,
            "grid_template_areas": null,
            "grid_template_columns": null,
            "grid_template_rows": null,
            "height": null,
            "justify_content": null,
            "justify_items": null,
            "left": null,
            "margin": null,
            "max_height": null,
            "max_width": null,
            "min_height": null,
            "min_width": null,
            "object_fit": null,
            "object_position": null,
            "order": null,
            "overflow": null,
            "overflow_x": null,
            "overflow_y": null,
            "padding": null,
            "right": null,
            "top": null,
            "visibility": null,
            "width": null
          }
        },
        "7924a3cdf9514a4ebde4721abe4a0f6a": {
          "model_module": "@jupyter-widgets/base",
          "model_name": "LayoutModel",
          "model_module_version": "1.2.0",
          "state": {
            "_model_module": "@jupyter-widgets/base",
            "_model_module_version": "1.2.0",
            "_model_name": "LayoutModel",
            "_view_count": null,
            "_view_module": "@jupyter-widgets/base",
            "_view_module_version": "1.2.0",
            "_view_name": "LayoutView",
            "align_content": null,
            "align_items": null,
            "align_self": null,
            "border": null,
            "bottom": null,
            "display": null,
            "flex": null,
            "flex_flow": null,
            "grid_area": null,
            "grid_auto_columns": null,
            "grid_auto_flow": null,
            "grid_auto_rows": null,
            "grid_column": null,
            "grid_gap": null,
            "grid_row": null,
            "grid_template_areas": null,
            "grid_template_columns": null,
            "grid_template_rows": null,
            "height": "100px",
            "justify_content": null,
            "justify_items": null,
            "left": null,
            "margin": null,
            "max_height": null,
            "max_width": null,
            "min_height": null,
            "min_width": null,
            "object_fit": null,
            "object_position": null,
            "order": null,
            "overflow": null,
            "overflow_x": null,
            "overflow_y": null,
            "padding": null,
            "right": null,
            "top": null,
            "visibility": null,
            "width": "400px"
          }
        },
        "a08748ddbcc848eb80ca5970bc8d4245": {
          "model_module": "@jupyter-widgets/controls",
          "model_name": "DescriptionStyleModel",
          "model_module_version": "1.5.0",
          "state": {
            "_model_module": "@jupyter-widgets/controls",
            "_model_module_version": "1.5.0",
            "_model_name": "DescriptionStyleModel",
            "_view_count": null,
            "_view_module": "@jupyter-widgets/base",
            "_view_module_version": "1.2.0",
            "_view_name": "StyleView",
            "description_width": ""
          }
        },
        "acc52c5067044c4ca5c6553bdc2ca4d7": {
          "model_module": "@jupyter-widgets/base",
          "model_name": "LayoutModel",
          "model_module_version": "1.2.0",
          "state": {
            "_model_module": "@jupyter-widgets/base",
            "_model_module_version": "1.2.0",
            "_model_name": "LayoutModel",
            "_view_count": null,
            "_view_module": "@jupyter-widgets/base",
            "_view_module_version": "1.2.0",
            "_view_name": "LayoutView",
            "align_content": null,
            "align_items": null,
            "align_self": null,
            "border": null,
            "bottom": null,
            "display": null,
            "flex": null,
            "flex_flow": null,
            "grid_area": null,
            "grid_auto_columns": null,
            "grid_auto_flow": null,
            "grid_auto_rows": null,
            "grid_column": null,
            "grid_gap": null,
            "grid_row": null,
            "grid_template_areas": null,
            "grid_template_columns": null,
            "grid_template_rows": null,
            "height": "100px",
            "justify_content": null,
            "justify_items": null,
            "left": null,
            "margin": null,
            "max_height": null,
            "max_width": null,
            "min_height": null,
            "min_width": null,
            "object_fit": null,
            "object_position": null,
            "order": null,
            "overflow": null,
            "overflow_x": null,
            "overflow_y": null,
            "padding": null,
            "right": null,
            "top": null,
            "visibility": null,
            "width": "400px"
          }
        },
        "19cb4033f4ca42349acb56f53e469655": {
          "model_module": "@jupyter-widgets/controls",
          "model_name": "DescriptionStyleModel",
          "model_module_version": "1.5.0",
          "state": {
            "_model_module": "@jupyter-widgets/controls",
            "_model_module_version": "1.5.0",
            "_model_name": "DescriptionStyleModel",
            "_view_count": null,
            "_view_module": "@jupyter-widgets/base",
            "_view_module_version": "1.2.0",
            "_view_name": "StyleView",
            "description_width": ""
          }
        },
        "fed04bd61fce45899e5673870ce13bf0": {
          "model_module": "@jupyter-widgets/base",
          "model_name": "LayoutModel",
          "model_module_version": "1.2.0",
          "state": {
            "_model_module": "@jupyter-widgets/base",
            "_model_module_version": "1.2.0",
            "_model_name": "LayoutModel",
            "_view_count": null,
            "_view_module": "@jupyter-widgets/base",
            "_view_module_version": "1.2.0",
            "_view_name": "LayoutView",
            "align_content": null,
            "align_items": null,
            "align_self": null,
            "border": null,
            "bottom": null,
            "display": null,
            "flex": null,
            "flex_flow": null,
            "grid_area": null,
            "grid_auto_columns": null,
            "grid_auto_flow": null,
            "grid_auto_rows": null,
            "grid_column": null,
            "grid_gap": null,
            "grid_row": null,
            "grid_template_areas": null,
            "grid_template_columns": null,
            "grid_template_rows": null,
            "height": "100px",
            "justify_content": null,
            "justify_items": null,
            "left": null,
            "margin": null,
            "max_height": null,
            "max_width": null,
            "min_height": null,
            "min_width": null,
            "object_fit": null,
            "object_position": null,
            "order": null,
            "overflow": null,
            "overflow_x": null,
            "overflow_y": null,
            "padding": null,
            "right": null,
            "top": null,
            "visibility": null,
            "width": "400px"
          }
        },
        "13e9e91b88cd4b7e8c178aa542b57f9b": {
          "model_module": "@jupyter-widgets/controls",
          "model_name": "DescriptionStyleModel",
          "model_module_version": "1.5.0",
          "state": {
            "_model_module": "@jupyter-widgets/controls",
            "_model_module_version": "1.5.0",
            "_model_name": "DescriptionStyleModel",
            "_view_count": null,
            "_view_module": "@jupyter-widgets/base",
            "_view_module_version": "1.2.0",
            "_view_name": "StyleView",
            "description_width": ""
          }
        },
        "d4883533a15f4748bfcf8d6eff4c49ee": {
          "model_module": "@jupyter-widgets/controls",
          "model_name": "TextareaModel",
          "model_module_version": "1.5.0",
          "state": {
            "_dom_classes": [],
            "_model_module": "@jupyter-widgets/controls",
            "_model_module_version": "1.5.0",
            "_model_name": "TextareaModel",
            "_view_count": null,
            "_view_module": "@jupyter-widgets/controls",
            "_view_module_version": "1.5.0",
            "_view_name": "TextareaView",
            "continuous_update": true,
            "description": "TV Show:",
            "description_tooltip": null,
            "disabled": false,
            "layout": "IPY_MODEL_2d152f675c2e42809c35fcc6a1a828ad",
            "placeholder": "​",
            "rows": null,
            "style": "IPY_MODEL_5328ec9ca7de4a01a8c280eb86af6caa",
            "value": "friends"
          }
        },
        "2d152f675c2e42809c35fcc6a1a828ad": {
          "model_module": "@jupyter-widgets/base",
          "model_name": "LayoutModel",
          "model_module_version": "1.2.0",
          "state": {
            "_model_module": "@jupyter-widgets/base",
            "_model_module_version": "1.2.0",
            "_model_name": "LayoutModel",
            "_view_count": null,
            "_view_module": "@jupyter-widgets/base",
            "_view_module_version": "1.2.0",
            "_view_name": "LayoutView",
            "align_content": null,
            "align_items": null,
            "align_self": null,
            "border": null,
            "bottom": null,
            "display": null,
            "flex": null,
            "flex_flow": null,
            "grid_area": null,
            "grid_auto_columns": null,
            "grid_auto_flow": null,
            "grid_auto_rows": null,
            "grid_column": null,
            "grid_gap": null,
            "grid_row": null,
            "grid_template_areas": null,
            "grid_template_columns": null,
            "grid_template_rows": null,
            "height": "100px",
            "justify_content": null,
            "justify_items": null,
            "left": null,
            "margin": null,
            "max_height": null,
            "max_width": null,
            "min_height": null,
            "min_width": null,
            "object_fit": null,
            "object_position": null,
            "order": null,
            "overflow": null,
            "overflow_x": null,
            "overflow_y": null,
            "padding": null,
            "right": null,
            "top": null,
            "visibility": null,
            "width": "400px"
          }
        },
        "5328ec9ca7de4a01a8c280eb86af6caa": {
          "model_module": "@jupyter-widgets/controls",
          "model_name": "DescriptionStyleModel",
          "model_module_version": "1.5.0",
          "state": {
            "_model_module": "@jupyter-widgets/controls",
            "_model_module_version": "1.5.0",
            "_model_name": "DescriptionStyleModel",
            "_view_count": null,
            "_view_module": "@jupyter-widgets/base",
            "_view_module_version": "1.2.0",
            "_view_name": "StyleView",
            "description_width": ""
          }
        },
        "d4cf6ac795cb4340b7ded36b464ee406": {
          "model_module": "@jupyter-widgets/controls",
          "model_name": "ButtonModel",
          "model_module_version": "1.5.0",
          "state": {
            "_dom_classes": [],
            "_model_module": "@jupyter-widgets/controls",
            "_model_module_version": "1.5.0",
            "_model_name": "ButtonModel",
            "_view_count": null,
            "_view_module": "@jupyter-widgets/controls",
            "_view_module_version": "1.5.0",
            "_view_name": "ButtonView",
            "button_style": "",
            "description": "Save TV Show",
            "disabled": false,
            "icon": "",
            "layout": "IPY_MODEL_8ce3de28e92e492f9ee7fb285601ba82",
            "style": "IPY_MODEL_b97410ccd9b14eb6b2491dbc13f4f4f0",
            "tooltip": ""
          }
        },
        "8ce3de28e92e492f9ee7fb285601ba82": {
          "model_module": "@jupyter-widgets/base",
          "model_name": "LayoutModel",
          "model_module_version": "1.2.0",
          "state": {
            "_model_module": "@jupyter-widgets/base",
            "_model_module_version": "1.2.0",
            "_model_name": "LayoutModel",
            "_view_count": null,
            "_view_module": "@jupyter-widgets/base",
            "_view_module_version": "1.2.0",
            "_view_name": "LayoutView",
            "align_content": null,
            "align_items": null,
            "align_self": null,
            "border": null,
            "bottom": null,
            "display": null,
            "flex": null,
            "flex_flow": null,
            "grid_area": null,
            "grid_auto_columns": null,
            "grid_auto_flow": null,
            "grid_auto_rows": null,
            "grid_column": null,
            "grid_gap": null,
            "grid_row": null,
            "grid_template_areas": null,
            "grid_template_columns": null,
            "grid_template_rows": null,
            "height": null,
            "justify_content": null,
            "justify_items": null,
            "left": null,
            "margin": null,
            "max_height": null,
            "max_width": null,
            "min_height": null,
            "min_width": null,
            "object_fit": null,
            "object_position": null,
            "order": null,
            "overflow": null,
            "overflow_x": null,
            "overflow_y": null,
            "padding": null,
            "right": null,
            "top": null,
            "visibility": null,
            "width": null
          }
        },
        "b97410ccd9b14eb6b2491dbc13f4f4f0": {
          "model_module": "@jupyter-widgets/controls",
          "model_name": "ButtonStyleModel",
          "model_module_version": "1.5.0",
          "state": {
            "_model_module": "@jupyter-widgets/controls",
            "_model_module_version": "1.5.0",
            "_model_name": "ButtonStyleModel",
            "_view_count": null,
            "_view_module": "@jupyter-widgets/base",
            "_view_module_version": "1.2.0",
            "_view_name": "StyleView",
            "button_color": null,
            "font_weight": ""
          }
        }
      }
    }
  },
  "cells": [
    {
      "cell_type": "markdown",
      "metadata": {
        "id": "view-in-github",
        "colab_type": "text"
      },
      "source": [
        "<a href=\"https://colab.research.google.com/github/ndvp39/CEMS/blob/master/cloud_braude_2.ipynb\" target=\"_parent\"><img src=\"https://colab.research.google.com/assets/colab-badge.svg\" alt=\"Open In Colab\"/></a>"
      ]
    },
    {
      "cell_type": "code",
      "execution_count": 8,
      "metadata": {
        "colab": {
          "base_uri": "https://localhost:8080/"
        },
        "id": "wdgCJVDn8IAe",
        "outputId": "efed7c13-9dc8-48b1-f58f-abb024ee18f1"
      },
      "outputs": [
        {
          "output_type": "stream",
          "name": "stdout",
          "text": [
            "Drive already mounted at /content/drive; to attempt to forcibly remount, call drive.mount(\"/content/drive\", force_remount=True).\n"
          ]
        }
      ],
      "source": [
        "from google.colab import drive\n",
        "drive.mount('/content/drive')\n",
        "import json\n",
        "\n",
        "\n",
        "from ipywidgets import widgets, HBox, Layout\n",
        "from IPython.display import display, clear_output, Markdown\n"
      ]
    },
    {
      "cell_type": "code",
      "source": [
        "\n",
        "studentsList = []\n",
        "with open('/content/drive/My Drive/CloudComputing/students.json') as f:\n",
        "    for jsonObj in f:\n",
        "        studentsList.append(json.loads(jsonObj))\n",
        "\n",
        "for student in studentsList:\n",
        "    print(student[\"name\"], student[\"email\"], student[\"courses\"], student[\"web\"])"
      ],
      "metadata": {
        "colab": {
          "base_uri": "https://localhost:8080/"
        },
        "id": "YLvqPuol8QgV",
        "outputId": "b610f754-785e-4214-83bb-8b8ebe9dba4f"
      },
      "execution_count": 11,
      "outputs": [
        {
          "output_type": "stream",
          "name": "stdout",
          "text": [
            "Alon Ternerider alon.ternerider@braude.ac.il cloud WEB phyisics AI ML Compilation https://github.com/alon309\n",
            "Nadav Goldin nadav.goldin@braude.ac.il cloud WEB phyisics AI ML Compilation https://github.com/ndvp39/ChessGame\n",
            "matan czuckermann matan.czuckermann@braude.ac.il cloud WEB phyisics AI ML Compilation https://www.linkedin.com/in/matan-czuckermann-31994886/\n",
            "tzahi bakal tzahi.bakal@braude.ac.il cloud WEB phyisics AI ML Compilation https://www.linkedin.com/in/tzahi-bakal/\n",
            "daniel armaganian daniel.armaganian@braude.ac.il cloud WEB phyisics AI ML Compilation https://www.linkedin.com/in/daniarmag/\n"
          ]
        }
      ]
    },
    {
      "cell_type": "code",
      "source": [
        "# @title Students { form-width: \"100%\" }\n",
        "\n",
        "student_selected = None\n",
        "\n",
        "studentNameSelection = widgets.Dropdown(\n",
        "    options = [student[\"name\"] for student in studentsList],\n",
        "    value = None,\n",
        "    description = \"Student:\"\n",
        ")\n",
        "display(studentNameSelection)\n",
        "\n",
        "# Create text areas for student information\n",
        "output_box_email = widgets.Textarea(description=\"email:\", disabled=True, layout=Layout(width='400px', height='100px'))\n",
        "output_box_courses = widgets.Textarea(description=\"courses:\", disabled=True, layout=Layout(width='400px', height='100px'))\n",
        "output_box_link = widgets.Textarea(description=\"link:\", disabled=False, layout=Layout(width='400px', height='100px'))\n",
        "# Display the text areas using HBox\n",
        "output_boxes = HBox([output_box_email, output_box_courses, output_box_link])\n",
        "\n",
        "def onClickSaveTvShow(_):\n",
        "  student_TvShow_entered = input_box_TVshow.value\n",
        "  studentTv = {\"TV_show\": student_TvShow_entered}\n",
        "  global student_selected\n",
        "  student_selected.update(studentTv)\n",
        "  with open('/content/drive/My Drive/CloudComputing/students.json', 'w') as f:\n",
        "    json.dump(studentsList, f)\n",
        "\n",
        "\n",
        "\n",
        "input_box_TVshow = widgets.Textarea(description=\"TV Show:\", disabled=False, layout=Layout(width='400px', height='100px'))\n",
        "button_saveTVshow = widgets.Button(description=\"Save TV Show\")\n",
        "button_saveTVshow.on_click(onClickSaveTvShow)\n",
        "\n",
        "# set the information of the student in the output_boxes\n",
        "def studentSelected(student):\n",
        "  clear_output()\n",
        "  input_box_TVshow.value = \"\"\n",
        "  display(studentNameSelection, output_boxes, input_box_TVshow, button_saveTVshow)\n",
        "\n",
        "  output_box_email.value = student[\"email\"]\n",
        "  s_courses = student[\"courses\"].replace(' ', '\\n')\n",
        "  output_box_courses.value = s_courses\n",
        "  output_box_link.value = student[\"web\"]\n",
        "\n",
        "# Function to handle changes in the dropdown value\n",
        "def onSelectStudent(change):\n",
        "  for student in studentsList:\n",
        "    if(student[\"name\"] == change.new):\n",
        "      studentSelected(student)\n",
        "      global student_selected\n",
        "      student_selected = student\n",
        "      return\n",
        "\n",
        "\n",
        "\n",
        "\n",
        "\n",
        "\n",
        "# Attach the observer to the dropdown widget\n",
        "studentNameSelection.observe(onSelectStudent, names='value')"
      ],
      "metadata": {
        "colab": {
          "base_uri": "https://localhost:8080/",
          "height": 289,
          "referenced_widgets": [
            "4792a92e9ddb4375aece4e31d556065a",
            "98045a8ede324506b8c6f96e9e2b4898",
            "a972a526c9404b7da1e0f1a230238c3b",
            "0c60f9b43bcf4ce08bfbd4781d24356d",
            "25ffe0ae59914333b990c422febde624",
            "73b7b5ecd9d14d1594fa7e2a1b95ce25",
            "7c8696939823478ab3a39a5ad395db9c",
            "183fe3633876408faf663efd98586626",
            "7924a3cdf9514a4ebde4721abe4a0f6a",
            "a08748ddbcc848eb80ca5970bc8d4245",
            "acc52c5067044c4ca5c6553bdc2ca4d7",
            "19cb4033f4ca42349acb56f53e469655",
            "fed04bd61fce45899e5673870ce13bf0",
            "13e9e91b88cd4b7e8c178aa542b57f9b",
            "d4883533a15f4748bfcf8d6eff4c49ee",
            "2d152f675c2e42809c35fcc6a1a828ad",
            "5328ec9ca7de4a01a8c280eb86af6caa",
            "d4cf6ac795cb4340b7ded36b464ee406",
            "8ce3de28e92e492f9ee7fb285601ba82",
            "b97410ccd9b14eb6b2491dbc13f4f4f0"
          ]
        },
        "id": "vJzJabLH96xr",
        "outputId": "2f420620-123e-4dc2-a954-fefb85c96ed0"
      },
      "execution_count": 19,
      "outputs": [
        {
          "output_type": "display_data",
          "data": {
            "text/plain": [
              "Dropdown(description='Student:', options=('Alon Ternerider', 'Nadav Goldin', 'matan czuckermann', 'tzahi bakal…"
            ],
            "application/vnd.jupyter.widget-view+json": {
              "version_major": 2,
              "version_minor": 0,
              "model_id": "4792a92e9ddb4375aece4e31d556065a"
            }
          },
          "metadata": {}
        },
        {
          "output_type": "display_data",
          "data": {
            "text/plain": [
              "HBox(children=(Textarea(value='', description='email:', disabled=True, layout=Layout(height='100px', width='40…"
            ],
            "application/vnd.jupyter.widget-view+json": {
              "version_major": 2,
              "version_minor": 0,
              "model_id": "0c60f9b43bcf4ce08bfbd4781d24356d"
            }
          },
          "metadata": {}
        },
        {
          "output_type": "display_data",
          "data": {
            "text/plain": [
              "Textarea(value='', description='TV Show:', layout=Layout(height='100px', width='400px'))"
            ],
            "application/vnd.jupyter.widget-view+json": {
              "version_major": 2,
              "version_minor": 0,
              "model_id": "d4883533a15f4748bfcf8d6eff4c49ee"
            }
          },
          "metadata": {}
        },
        {
          "output_type": "display_data",
          "data": {
            "text/plain": [
              "Button(description='Save TV Show', style=ButtonStyle())"
            ],
            "application/vnd.jupyter.widget-view+json": {
              "version_major": 2,
              "version_minor": 0,
              "model_id": "d4cf6ac795cb4340b7ded36b464ee406"
            }
          },
          "metadata": {}
        }
      ]
    },
    {
      "cell_type": "code",
      "source": [],
      "metadata": {
        "id": "MvzgSVlZDfYc"
      },
      "execution_count": null,
      "outputs": []
    }
  ]
}